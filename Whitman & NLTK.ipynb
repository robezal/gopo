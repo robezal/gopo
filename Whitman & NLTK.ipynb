{
 "cells": [
  {
   "cell_type": "code",
   "execution_count": 2,
   "metadata": {},
   "outputs": [],
   "source": [
    "import pandas as pd\n",
    "import nltk\n",
    "from nltk.tokenize import PunktSentenceTokenizer"
   ]
  },
  {
   "cell_type": "code",
   "execution_count": 6,
   "metadata": {},
   "outputs": [
    {
     "data": {
      "text/html": [
       "<div>\n",
       "<style scoped>\n",
       "    .dataframe tbody tr th:only-of-type {\n",
       "        vertical-align: middle;\n",
       "    }\n",
       "\n",
       "    .dataframe tbody tr th {\n",
       "        vertical-align: top;\n",
       "    }\n",
       "\n",
       "    .dataframe thead th {\n",
       "        text-align: right;\n",
       "    }\n",
       "</style>\n",
       "<table border=\"1\" class=\"dataframe\">\n",
       "  <thead>\n",
       "    <tr style=\"text-align: right;\">\n",
       "      <th></th>\n",
       "      <th>Author</th>\n",
       "      <th>Title</th>\n",
       "      <th>Poem</th>\n",
       "    </tr>\n",
       "  </thead>\n",
       "  <tbody>\n",
       "    <tr>\n",
       "      <th>0</th>\n",
       "      <td>Walt Whitman</td>\n",
       "      <td>Walt Whitman</td>\n",
       "      <td>Come, said my soul,\\r\\n     Such verses for my...</td>\n",
       "    </tr>\n",
       "    <tr>\n",
       "      <th>1</th>\n",
       "      <td>Walt Whitman</td>\n",
       "      <td>One's-Self I Sing</td>\n",
       "      <td>One's-self I sing, a simple separate person,\\r...</td>\n",
       "    </tr>\n",
       "    <tr>\n",
       "      <th>2</th>\n",
       "      <td>Walt Whitman</td>\n",
       "      <td>As I Ponder'd in Silence</td>\n",
       "      <td>As I ponder'd in silence,\\r\\n  Returning upon ...</td>\n",
       "    </tr>\n",
       "    <tr>\n",
       "      <th>3</th>\n",
       "      <td>Walt Whitman</td>\n",
       "      <td>In Cabin'd Ships at Sea</td>\n",
       "      <td>In cabin'd ships at sea,\\r\\n  The boundless bl...</td>\n",
       "    </tr>\n",
       "    <tr>\n",
       "      <th>4</th>\n",
       "      <td>Walt Whitman</td>\n",
       "      <td>To Foreign Lands</td>\n",
       "      <td>I heard that you ask'd for something to prove ...</td>\n",
       "    </tr>\n",
       "  </tbody>\n",
       "</table>\n",
       "</div>"
      ],
      "text/plain": [
       "         Author                     Title  \\\n",
       "0  Walt Whitman              Walt Whitman   \n",
       "1  Walt Whitman         One's-Self I Sing   \n",
       "2  Walt Whitman  As I Ponder'd in Silence   \n",
       "3  Walt Whitman   In Cabin'd Ships at Sea   \n",
       "4  Walt Whitman          To Foreign Lands   \n",
       "\n",
       "                                                Poem  \n",
       "0  Come, said my soul,\\r\\n     Such verses for my...  \n",
       "1  One's-self I sing, a simple separate person,\\r...  \n",
       "2  As I ponder'd in silence,\\r\\n  Returning upon ...  \n",
       "3  In cabin'd ships at sea,\\r\\n  The boundless bl...  \n",
       "4  I heard that you ask'd for something to prove ...  "
      ]
     },
     "execution_count": 6,
     "metadata": {},
     "output_type": "execute_result"
    }
   ],
   "source": [
    "df = pd.read_csv('Whitman_poems.csv', index_col = 0)\n",
    "df.head()"
   ]
  },
  {
   "cell_type": "code",
   "execution_count": 8,
   "metadata": {},
   "outputs": [
    {
     "data": {
      "text/plain": [
       "Author    379\n",
       "Title     379\n",
       "Poem      379\n",
       "dtype: int64"
      ]
     },
     "execution_count": 8,
     "metadata": {},
     "output_type": "execute_result"
    }
   ],
   "source": [
    "df.count()"
   ]
  },
  {
   "cell_type": "code",
   "execution_count": 14,
   "metadata": {},
   "outputs": [],
   "source": [
    "text = ''\n",
    "for poem in df.Poem[0:100]:\n",
    "    text += poem + '\\n'\n",
    "train_text = text\n",
    "sample_text = df.Poem[100]"
   ]
  },
  {
   "cell_type": "code",
   "execution_count": 15,
   "metadata": {},
   "outputs": [],
   "source": [
    "custom_sent_tokenizer = PunktSentenceTokenizer(train_text)\n",
    "tokenized = custom_sent_tokenizer.tokenize(sample_text)"
   ]
  },
  {
   "cell_type": "code",
   "execution_count": 16,
   "metadata": {
    "scrolled": true
   },
   "outputs": [
    {
     "name": "stdout",
     "output_type": "stream",
     "text": [
      "[('1', 'CD'), ('With', 'IN'), ('antecedents', 'NNS'), (',', ','), ('With', 'IN'), ('my', 'PRP$'), ('fathers', 'NNS'), ('and', 'CC'), ('mothers', 'NNS'), ('and', 'CC'), ('the', 'DT'), ('accumulations', 'NNS'), ('of', 'IN'), ('past', 'JJ'), ('ages', 'NNS'), (',', ','), ('With', 'IN'), ('all', 'DT'), ('which', 'WDT'), (',', ','), ('had', 'VBD'), ('it', 'PRP'), ('not', 'RB'), ('been', 'VBN'), (',', ','), ('I', 'PRP'), ('would', 'MD'), ('not', 'RB'), ('now', 'RB'), ('be', 'VB'), ('here', 'RB'), (',', ','), ('as', 'IN'), ('I', 'PRP'), ('am', 'VBP'), (',', ','), ('With', 'IN'), ('Egypt', 'NNP'), (',', ','), ('India', 'NNP'), (',', ','), ('Phenicia', 'NNP'), (',', ','), ('Greece', 'NNP'), ('and', 'CC'), ('Rome', 'NNP'), (',', ','), ('With', 'IN'), ('the', 'DT'), ('Kelt', 'NNP'), (',', ','), ('the', 'DT'), ('Scandinavian', 'NNP'), (',', ','), ('the', 'DT'), ('Alb', 'NNP'), ('and', 'CC'), ('the', 'DT'), ('Saxon', 'NNP'), (',', ','), ('With', 'IN'), ('antique', 'JJ'), ('maritime', 'JJ'), ('ventures', 'NNS'), (',', ','), ('laws', 'NNS'), (',', ','), ('artisanship', 'NN'), (',', ','), ('wars', 'NNS'), ('and', 'CC'), ('journeys', 'NNS'), (',', ','), ('With', 'IN'), ('the', 'DT'), ('poet', 'NN'), (',', ','), ('the', 'DT'), ('skald', 'NN'), (',', ','), ('the', 'DT'), ('saga', 'NN'), (',', ','), ('the', 'DT'), ('myth', 'NN'), (',', ','), ('and', 'CC'), ('the', 'DT'), ('oracle', 'NN'), (',', ','), ('With', 'IN'), ('the', 'DT'), ('sale', 'NN'), ('of', 'IN'), ('slaves', 'NNS'), (',', ','), ('with', 'IN'), ('enthusiasts', 'NNS'), (',', ','), ('with', 'IN'), ('the', 'DT'), ('troubadour', 'NN'), (',', ','), ('the', 'DT'), ('crusader', 'NN'), (',', ','), ('and', 'CC'), ('the', 'DT'), ('monk', 'NN'), (',', ','), ('With', 'IN'), ('those', 'DT'), ('old', 'JJ'), ('continents', 'NNS'), ('whence', 'NN'), ('we', 'PRP'), ('have', 'VBP'), ('come', 'VBN'), ('to', 'TO'), ('this', 'DT'), ('new', 'JJ'), ('continent', 'NN'), (',', ','), ('With', 'IN'), ('the', 'DT'), ('fading', 'NN'), ('kingdoms', 'NNS'), ('and', 'CC'), ('kings', 'NNS'), ('over', 'IN'), ('there', 'RB'), (',', ','), ('With', 'IN'), ('the', 'DT'), ('fading', 'JJ'), ('religions', 'NNS'), ('and', 'CC'), ('priests', 'NNS'), (',', ','), ('With', 'IN'), ('the', 'DT'), ('small', 'JJ'), ('shores', 'VBZ'), ('we', 'PRP'), ('look', 'VBP'), ('back', 'RB'), ('to', 'TO'), ('from', 'IN'), ('our', 'PRP$'), ('own', 'JJ'), ('large', 'JJ'), ('and', 'CC'), ('present', 'JJ'), ('shores', 'NNS'), (',', ','), ('With', 'IN'), ('countless', 'JJ'), ('years', 'NNS'), ('drawing', 'VBG'), ('themselves', 'PRP'), ('onward', 'JJ'), ('and', 'CC'), ('arrived', 'VBD'), ('at', 'IN'), ('these', 'DT'), ('years', 'NNS'), (',', ','), ('You', 'PRP'), ('and', 'CC'), ('me', 'PRP'), ('arrived—America', 'VBP'), ('arrived', 'JJ'), ('and', 'CC'), ('making', 'VBG'), ('this', 'DT'), ('year', 'NN'), (',', ','), ('This', 'DT'), ('year', 'NN'), ('!', '.')]\n",
      "[('sending', 'VBG'), ('itself', 'PRP'), ('ahead', 'RB'), ('countless', 'VBP'), ('years', 'NNS'), ('to', 'TO'), ('come', 'VB'), ('.', '.')]\n",
      "[('2', 'CD'), ('O', 'NNP'), ('but', 'CC'), ('it', 'PRP'), ('is', 'VBZ'), ('not', 'RB'), ('the', 'DT'), ('years—it', 'NN'), ('is', 'VBZ'), ('I', 'PRP'), (',', ','), ('it', 'PRP'), ('is', 'VBZ'), ('You', 'PRP'), (',', ','), ('We', 'PRP'), ('touch', 'VBP'), ('all', 'DT'), ('laws', 'NNS'), ('and', 'CC'), ('tally', 'RB'), ('all', 'DT'), ('antecedents', 'NNS'), (',', ','), ('We', 'PRP'), ('are', 'VBP'), ('the', 'DT'), ('skald', 'NN'), (',', ','), ('the', 'DT'), ('oracle', 'NN'), (',', ','), ('the', 'DT'), ('monk', 'NN'), ('and', 'CC'), ('the', 'DT'), ('knight', 'NN'), (',', ','), ('we', 'PRP'), ('easily', 'RB'), ('include', 'VBP'), ('them', 'PRP'), ('and', 'CC'), ('more', 'JJR'), (',', ','), ('We', 'PRP'), ('stand', 'VBP'), ('amid', 'IN'), ('time', 'NN'), ('beginningless', 'NN'), ('and', 'CC'), ('endless', 'NN'), (',', ','), ('we', 'PRP'), ('stand', 'VBP'), ('amid', 'IN'), ('evil', 'JJ'), ('and', 'CC'), ('good', 'JJ'), (',', ','), ('All', 'DT'), ('swings', 'NNS'), ('around', 'IN'), ('us', 'PRP'), (',', ','), ('there', 'EX'), ('is', 'VBZ'), ('as', 'RB'), ('much', 'JJ'), ('darkness', 'NN'), ('as', 'IN'), ('light', 'NN'), (',', ','), ('The', 'DT'), ('very', 'RB'), ('sun', 'JJ'), ('swings', 'NNS'), ('itself', 'PRP'), ('and', 'CC'), ('its', 'PRP$'), ('system', 'NN'), ('of', 'IN'), ('planets', 'NNS'), ('around', 'IN'), ('us', 'PRP'), (',', ','), ('Its', 'PRP$'), ('sun', 'NN'), (',', ','), ('and', 'CC'), ('its', 'PRP$'), ('again', 'RB'), (',', ','), ('all', 'DT'), ('swing', 'VBG'), ('around', 'RP'), ('us', 'PRP'), ('.', '.')]\n",
      "[('As', 'IN'), ('for', 'IN'), ('me', 'PRP'), (',', ','), ('(', '('), ('torn', 'JJ'), (',', ','), ('stormy', 'NN'), (',', ','), ('amid', 'IN'), ('these', 'DT'), ('vehement', 'JJ'), ('days', 'NNS'), (',', ','), (')', ')'), ('I', 'PRP'), ('have', 'VBP'), ('the', 'DT'), ('idea', 'NN'), ('of', 'IN'), ('all', 'DT'), (',', ','), ('and', 'CC'), ('am', 'VBP'), ('all', 'DT'), ('and', 'CC'), ('believe', 'VB'), ('in', 'IN'), ('all', 'DT'), (',', ','), ('I', 'PRP'), ('believe', 'VBP'), ('materialism', 'NN'), ('is', 'VBZ'), ('true', 'JJ'), ('and', 'CC'), ('spiritualism', 'NN'), ('is', 'VBZ'), ('true', 'JJ'), (',', ','), ('I', 'PRP'), ('reject', 'VBP'), ('no', 'DT'), ('part', 'NN'), ('.', '.')]\n",
      "[('(', '('), ('Have', 'VBP'), ('I', 'PRP'), ('forgotten', 'VBP'), ('any', 'DT'), ('part', 'NN'), ('?', '.')]\n",
      "[('any', 'DT'), ('thing', 'NN'), ('in', 'IN'), ('the', 'DT'), ('past', 'NN'), ('?', '.')]\n",
      "[('Come', 'NNP'), ('to', 'TO'), ('me', 'PRP'), ('whoever', 'WP'), ('and', 'CC'), ('whatever', 'NN'), (',', ','), ('till', 'NN'), ('I', 'PRP'), ('give', 'VBP'), ('you', 'PRP'), ('recognition', 'NN'), ('.', '.'), (')', ')')]\n",
      "[('I', 'PRP'), ('respect', 'VBP'), ('Assyria', 'NNP'), (',', ','), ('China', 'NNP'), (',', ','), ('Teutonia', 'NNP'), (',', ','), ('and', 'CC'), ('the', 'DT'), ('Hebrews', 'NNP'), (',', ','), ('I', 'PRP'), ('adopt', 'VBP'), ('each', 'DT'), ('theory', 'NN'), (',', ','), ('myth', 'NN'), (',', ','), ('god', 'NN'), (',', ','), ('and', 'CC'), ('demigod', 'NN'), (',', ','), ('I', 'PRP'), ('see', 'VBP'), ('that', 'IN'), ('the', 'DT'), ('old', 'JJ'), ('accounts', 'NNS'), (',', ','), ('bibles', 'NNS'), (',', ','), ('genealogies', 'NNS'), (',', ','), ('are', 'VBP'), ('true', 'JJ'), (',', ','), ('without', 'IN'), ('exception', 'NN'), (',', ','), ('I', 'PRP'), ('assert', 'VBP'), ('that', 'IN'), ('all', 'DT'), ('past', 'JJ'), ('days', 'NNS'), ('were', 'VBD'), ('what', 'WP'), ('they', 'PRP'), ('must', 'MD'), ('have', 'VB'), ('been', 'VBN'), (',', ','), ('And', 'CC'), ('that', 'IN'), ('they', 'PRP'), ('could', 'MD'), ('no-how', 'RB'), ('have', 'VB'), ('been', 'VBN'), ('better', 'JJR'), ('than', 'IN'), ('they', 'PRP'), ('were', 'VBD'), (',', ','), ('And', 'CC'), ('that', 'IN'), ('to-day', 'NN'), ('is', 'VBZ'), ('what', 'WP'), ('it', 'PRP'), ('must', 'MD'), ('be', 'VB'), (',', ','), ('and', 'CC'), ('that', 'IN'), ('America', 'NNP'), ('is', 'VBZ'), (',', ','), ('And', 'CC'), ('that', 'IN'), ('to-day', 'JJ'), ('and', 'CC'), ('America', 'NNP'), ('could', 'MD'), ('no-how', 'RB'), ('be', 'VB'), ('better', 'JJR'), ('than', 'IN'), ('they', 'PRP'), ('are', 'VBP'), ('.', '.')]\n",
      "[('3', 'CD'), ('In', 'IN'), ('the', 'DT'), ('name', 'NN'), ('of', 'IN'), ('these', 'DT'), ('States', 'NNS'), ('and', 'CC'), ('in', 'IN'), ('your', 'PRP$'), ('and', 'CC'), ('my', 'PRP$'), ('name', 'NN'), (',', ','), ('the', 'DT'), ('Past', 'NNP'), (',', ','), ('And', 'CC'), ('in', 'IN'), ('the', 'DT'), ('name', 'NN'), ('of', 'IN'), ('these', 'DT'), ('States', 'NNS'), ('and', 'CC'), ('in', 'IN'), ('your', 'PRP$'), ('and', 'CC'), ('my', 'PRP$'), ('name', 'NN'), (',', ','), ('the', 'DT'), ('Present', 'JJ'), ('time', 'NN'), ('.', '.')]\n",
      "[('I', 'PRP'), ('know', 'VBP'), ('that', 'IN'), ('the', 'DT'), ('past', 'NN'), ('was', 'VBD'), ('great', 'JJ'), ('and', 'CC'), ('the', 'DT'), ('future', 'NN'), ('will', 'MD'), ('be', 'VB'), ('great', 'JJ'), (',', ','), ('And', 'CC'), ('I', 'PRP'), ('know', 'VBP'), ('that', 'IN'), ('both', 'DT'), ('curiously', 'RB'), ('conjoint', 'NN'), ('in', 'IN'), ('the', 'DT'), ('present', 'JJ'), ('time', 'NN'), (',', ','), ('(', '('), ('For', 'IN'), ('the', 'DT'), ('sake', 'NN'), ('of', 'IN'), ('him', 'PRP'), ('I', 'PRP'), ('typify', 'VBP'), (',', ','), ('for', 'IN'), ('the', 'DT'), ('common', 'JJ'), ('average', 'JJ'), ('man', 'NN'), (\"'s\", 'POS'), ('sake', 'NN'), (',', ','), ('your', 'PRP$'), ('sake', 'NN'), ('if', 'IN'), ('you', 'PRP'), ('are', 'VBP'), ('he', 'PRP'), (',', ','), (')', ')'), ('And', 'CC'), ('that', 'IN'), ('where', 'WRB'), ('I', 'PRP'), ('am', 'VBP'), ('or', 'CC'), ('you', 'PRP'), ('are', 'VBP'), ('this', 'DT'), ('present', 'JJ'), ('day', 'NN'), (',', ','), ('there', 'EX'), ('is', 'VBZ'), ('the', 'DT'), ('centre', 'NN'), ('of', 'IN'), ('all', 'DT'), ('days', 'NNS'), (',', ','), ('all', 'DT'), ('races', 'NNS'), (',', ','), ('And', 'CC'), ('there', 'EX'), ('is', 'VBZ'), ('the', 'DT'), ('meaning', 'NN'), ('to', 'TO'), ('us', 'PRP'), ('of', 'IN'), ('all', 'PDT'), ('that', 'DT'), ('has', 'VBZ'), ('ever', 'RB'), ('come', 'VBN'), ('of', 'IN'), ('races', 'NNS'), ('and', 'CC'), ('days', 'NNS'), (',', ','), ('or', 'CC'), ('ever', 'RB'), ('will', 'MD'), ('come', 'VB'), ('.', '.')]\n"
     ]
    }
   ],
   "source": [
    "def process_content():\n",
    "    try:\n",
    "        for token in tokenized:\n",
    "            words = nltk.word_tokenize(token)\n",
    "            tagged = nltk.pos_tag(words)\n",
    "            print(tagged)\n",
    "            \n",
    "    except Exception as e:\n",
    "        print(str(e))\n",
    "        \n",
    "process_content()"
   ]
  },
  {
   "cell_type": "raw",
   "metadata": {},
   "source": [
    "POS tag list:\n",
    "\n",
    "CC\tcoordinating conjunction\n",
    "CD\tcardinal digit\n",
    "DT\tdeterminer\n",
    "EX\texistential there (like: \"there is\" ... think of it like \"there exists\")\n",
    "FW\tforeign word\n",
    "IN\tpreposition/subordinating conjunction\n",
    "JJ\tadjective\t'big'\n",
    "JJR\tadjective, comparative\t'bigger'\n",
    "JJS\tadjective, superlative\t'biggest'\n",
    "LS\tlist marker\t1)\n",
    "MD\tmodal\tcould, will\n",
    "NN\tnoun, singular 'desk'\n",
    "NNS\tnoun plural\t'desks'\n",
    "NNP\tproper noun, singular\t'Harrison'\n",
    "NNPS\tproper noun, plural\t'Americans'\n",
    "PDT\tpredeterminer\t'all the kids'\n",
    "POS\tpossessive ending\tparent\\'s\n",
    "PRP\tpersonal pronoun\tI, he, she\n",
    "PRP$\tpossessive pronoun\tmy, his, hers\n",
    "RB\tadverb\tvery, silently,\n",
    "RBR\tadverb, comparative\tbetter\n",
    "RBS\tadverb, superlative\tbest\n",
    "RP\tparticle\tgive up\n",
    "TO\tto\tgo 'to' the store.\n",
    "UH\tinterjection\terrrrrrrrm\n",
    "VB\tverb, base form\ttake\n",
    "VBD\tverb, past tense\ttook\n",
    "VBG\tverb, gerund/present participle\ttaking\n",
    "VBN\tverb, past participle\ttaken\n",
    "VBP\tverb, sing. present, non-3d\ttake\n",
    "VBZ\tverb, 3rd person sing. present\ttakes\n",
    "WDT\twh-determiner\twhich\n",
    "WP\twh-pronoun\twho, what\n",
    "WP$\tpossessive wh-pronoun\twhose\n",
    "WRB\twh-abverb\twhere, when"
   ]
  }
 ],
 "metadata": {
  "kernelspec": {
   "display_name": "Python 3",
   "language": "python",
   "name": "python3"
  },
  "language_info": {
   "codemirror_mode": {
    "name": "ipython",
    "version": 3
   },
   "file_extension": ".py",
   "mimetype": "text/x-python",
   "name": "python",
   "nbconvert_exporter": "python",
   "pygments_lexer": "ipython3",
   "version": "3.7.6"
  }
 },
 "nbformat": 4,
 "nbformat_minor": 4
}
